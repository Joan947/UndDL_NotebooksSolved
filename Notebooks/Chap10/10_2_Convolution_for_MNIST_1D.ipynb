{
  "nbformat": 4,
  "nbformat_minor": 0,
  "metadata": {
    "colab": {
      "provenance": [],
      "include_colab_link": true
    },
    "kernelspec": {
      "name": "python3",
      "display_name": "Python 3"
    },
    "language_info": {
      "name": "python"
    }
  },
  "cells": [
    {
      "cell_type": "markdown",
      "metadata": {
        "id": "view-in-github",
        "colab_type": "text"
      },
      "source": [
        "<a href=\"https://colab.research.google.com/github/Joan947/UndDL_NotebooksSolved/blob/main/Notebooks/Chap10/10_2_Convolution_for_MNIST_1D.ipynb\" target=\"_parent\"><img src=\"https://colab.research.google.com/assets/colab-badge.svg\" alt=\"Open In Colab\"/></a>"
      ]
    },
    {
      "cell_type": "markdown",
      "source": [
        "# **Notebook 10.2: Convolution for MNIST-1D**\n",
        "\n",
        "This notebook investigates a 1D convolutional network for MNIST-1D as in figure 10.7 and 10.8a.\n",
        "\n",
        "Work through the cells below, running each cell in turn. In various places you will see the words \"TODO\". Follow the instructions at these places and make predictions about what is going to happen or write code to complete the functions.\n",
        "\n",
        "Contact me at udlbookmail@gmail.com if you find any mistakes or have any suggestions.\n",
        "\n"
      ],
      "metadata": {
        "id": "t9vk9Elugvmi"
      }
    },
    {
      "cell_type": "code",
      "source": [
        "# Run this if you're in a Colab to install MNIST 1D repository\n",
        "!pip install git+https://github.com/greydanus/mnist1d"
      ],
      "metadata": {
        "id": "D5yLObtZCi9J",
        "outputId": "bad15d08-a21e-4fdf-bed9-59568d53d8a5",
        "colab": {
          "base_uri": "https://localhost:8080/"
        }
      },
      "execution_count": 1,
      "outputs": [
        {
          "output_type": "stream",
          "name": "stdout",
          "text": [
            "Collecting git+https://github.com/greydanus/mnist1d\n",
            "  Cloning https://github.com/greydanus/mnist1d to /tmp/pip-req-build-r9j2kcqg\n",
            "  Running command git clone --filter=blob:none --quiet https://github.com/greydanus/mnist1d /tmp/pip-req-build-r9j2kcqg\n",
            "  Resolved https://github.com/greydanus/mnist1d to commit 7878d96082abd200c546a07a4101fa90b30fdf7e\n",
            "  Installing build dependencies ... \u001b[?25l\u001b[?25hdone\n",
            "  Getting requirements to build wheel ... \u001b[?25l\u001b[?25hdone\n",
            "  Preparing metadata (pyproject.toml) ... \u001b[?25l\u001b[?25hdone\n",
            "Requirement already satisfied: requests in /usr/local/lib/python3.11/dist-packages (from mnist1d==0.0.2.post16) (2.32.3)\n",
            "Requirement already satisfied: numpy in /usr/local/lib/python3.11/dist-packages (from mnist1d==0.0.2.post16) (2.0.2)\n",
            "Requirement already satisfied: matplotlib in /usr/local/lib/python3.11/dist-packages (from mnist1d==0.0.2.post16) (3.10.0)\n",
            "Requirement already satisfied: scipy in /usr/local/lib/python3.11/dist-packages (from mnist1d==0.0.2.post16) (1.15.2)\n",
            "Requirement already satisfied: contourpy>=1.0.1 in /usr/local/lib/python3.11/dist-packages (from matplotlib->mnist1d==0.0.2.post16) (1.3.2)\n",
            "Requirement already satisfied: cycler>=0.10 in /usr/local/lib/python3.11/dist-packages (from matplotlib->mnist1d==0.0.2.post16) (0.12.1)\n",
            "Requirement already satisfied: fonttools>=4.22.0 in /usr/local/lib/python3.11/dist-packages (from matplotlib->mnist1d==0.0.2.post16) (4.57.0)\n",
            "Requirement already satisfied: kiwisolver>=1.3.1 in /usr/local/lib/python3.11/dist-packages (from matplotlib->mnist1d==0.0.2.post16) (1.4.8)\n",
            "Requirement already satisfied: packaging>=20.0 in /usr/local/lib/python3.11/dist-packages (from matplotlib->mnist1d==0.0.2.post16) (24.2)\n",
            "Requirement already satisfied: pillow>=8 in /usr/local/lib/python3.11/dist-packages (from matplotlib->mnist1d==0.0.2.post16) (11.2.1)\n",
            "Requirement already satisfied: pyparsing>=2.3.1 in /usr/local/lib/python3.11/dist-packages (from matplotlib->mnist1d==0.0.2.post16) (3.2.3)\n",
            "Requirement already satisfied: python-dateutil>=2.7 in /usr/local/lib/python3.11/dist-packages (from matplotlib->mnist1d==0.0.2.post16) (2.9.0.post0)\n",
            "Requirement already satisfied: charset-normalizer<4,>=2 in /usr/local/lib/python3.11/dist-packages (from requests->mnist1d==0.0.2.post16) (3.4.1)\n",
            "Requirement already satisfied: idna<4,>=2.5 in /usr/local/lib/python3.11/dist-packages (from requests->mnist1d==0.0.2.post16) (3.10)\n",
            "Requirement already satisfied: urllib3<3,>=1.21.1 in /usr/local/lib/python3.11/dist-packages (from requests->mnist1d==0.0.2.post16) (2.4.0)\n",
            "Requirement already satisfied: certifi>=2017.4.17 in /usr/local/lib/python3.11/dist-packages (from requests->mnist1d==0.0.2.post16) (2025.4.26)\n",
            "Requirement already satisfied: six>=1.5 in /usr/local/lib/python3.11/dist-packages (from python-dateutil>=2.7->matplotlib->mnist1d==0.0.2.post16) (1.17.0)\n",
            "Building wheels for collected packages: mnist1d\n",
            "  Building wheel for mnist1d (pyproject.toml) ... \u001b[?25l\u001b[?25hdone\n",
            "  Created wheel for mnist1d: filename=mnist1d-0.0.2.post16-py3-none-any.whl size=14663 sha256=83d4bad0c7d3e3c22a03fea272108296532cf106354e8cbeaf75bb12b4c4339e\n",
            "  Stored in directory: /tmp/pip-ephem-wheel-cache-rzvx1831/wheels/d6/38/42/3d2112bc7d915f6195254ac85eb761d922d1b18f52817aa8e2\n",
            "Successfully built mnist1d\n",
            "Installing collected packages: mnist1d\n",
            "Successfully installed mnist1d-0.0.2.post16\n"
          ]
        }
      ]
    },
    {
      "cell_type": "code",
      "source": [
        "import numpy as np\n",
        "import os\n",
        "import torch, torch.nn as nn\n",
        "from torch.utils.data import TensorDataset, DataLoader\n",
        "from torch.optim.lr_scheduler import StepLR\n",
        "import matplotlib.pyplot as plt\n",
        "import mnist1d\n",
        "import random"
      ],
      "metadata": {
        "id": "YrXWAH7sUWvU"
      },
      "execution_count": 2,
      "outputs": []
    },
    {
      "cell_type": "code",
      "source": [
        "args = mnist1d.data.get_dataset_args()\n",
        "data = mnist1d.data.get_dataset(args, path='./mnist1d_data.pkl', download=False, regenerate=False)\n",
        "\n",
        "# The training and test input and outputs are in\n",
        "# data['x'], data['y'], data['x_test'], and data['y_test']\n",
        "print(\"Examples in training set: {}\".format(len(data['y'])))\n",
        "print(\"Examples in test set: {}\".format(len(data['y_test'])))\n",
        "print(\"Length of each example: {}\".format(data['x'].shape[-1]))"
      ],
      "metadata": {
        "id": "twI72ZCrCt5z",
        "outputId": "f9890e58-c256-47b2-a270-ac4f6c84365d",
        "colab": {
          "base_uri": "https://localhost:8080/"
        }
      },
      "execution_count": 3,
      "outputs": [
        {
          "output_type": "stream",
          "name": "stdout",
          "text": [
            "Did or could not load data from ./mnist1d_data.pkl. Rebuilding dataset...\n",
            "Examples in training set: 4000\n",
            "Examples in test set: 1000\n",
            "Length of each example: 40\n"
          ]
        }
      ]
    },
    {
      "cell_type": "code",
      "source": [
        "# Load in the data\n",
        "train_data_x = data['x'].transpose()\n",
        "train_data_y = data['y']\n",
        "val_data_x = data['x_test'].transpose()\n",
        "val_data_y = data['y_test']\n",
        "# Print out sizes\n",
        "print(\"Train data: %d examples (columns), each of which has %d dimensions (rows)\"%((train_data_x.shape[1],train_data_x.shape[0])))\n",
        "print(\"Validation data: %d examples (columns), each of which has %d dimensions (rows)\"%((val_data_x.shape[1],val_data_x.shape[0])))"
      ],
      "metadata": {
        "id": "8bKADvLHbiV5",
        "outputId": "b65909b0-e94d-4aab-a55a-b1b338ea5983",
        "colab": {
          "base_uri": "https://localhost:8080/"
        }
      },
      "execution_count": 4,
      "outputs": [
        {
          "output_type": "stream",
          "name": "stdout",
          "text": [
            "Train data: 4000 examples (columns), each of which has 40 dimensions (rows)\n",
            "Validation data: 1000 examples (columns), each of which has 40 dimensions (rows)\n"
          ]
        }
      ]
    },
    {
      "cell_type": "markdown",
      "source": [
        "Define the network"
      ],
      "metadata": {
        "id": "_sFvRDGrl4qe"
      }
    },
    {
      "cell_type": "code",
      "source": [
        "# There are 40 input dimensions and 10 output dimensions for this data\n",
        "# The inputs correspond to the 40 offsets in the MNIST1D template.\n",
        "D_i = 40\n",
        "# The outputs correspond to the 10 digits\n",
        "D_o = 10\n",
        "\n",
        "\n",
        "# TODO Create a model with the following layers\n",
        "# 1. Convolutional layer, (input=length 40 and 1 channel, kernel size 3, stride 2, padding=\"valid\", 15 output channels )\n",
        "# 2. ReLU\n",
        "# 3. Convolutional layer, (input=length 19 and 15 channels, kernel size 3, stride 2, padding=\"valid\", 15 output channels )\n",
        "# 4. ReLU\n",
        "# 5. Convolutional layer, (input=length 9 and 15 channels, kernel size 3, stride 2, padding=\"valid\", 15 output channels)\n",
        "# 6. ReLU\n",
        "# 7. Flatten (converts 4x15) to length 60\n",
        "# 8. Linear layer (input size = 60, output size = 10)\n",
        "# References:\n",
        "# https://pytorch.org/docs/1.13/generated/torch.nn.Conv1d.html?highlight=conv1d#torch.nn.Conv1d\n",
        "# https://pytorch.org/docs/stable/generated/torch.nn.Flatten.html\n",
        "# https://pytorch.org/docs/1.13/generated/torch.nn.Linear.html?highlight=linear#torch.nn.Linear\n",
        "\n",
        "# NOTE THAT THE CONVOLUTIONAL LAYERS NEED TO TAKE THE NUMBER OF INPUT CHANNELS AS A PARAMETER\n",
        "# AND NOT THE INPUT SIZE.\n",
        "\n",
        "# Replace the following function:\n",
        "model = nn.Sequential(\n",
        "    nn.Conv1d(in_channels=1, out_channels=15, kernel_size=3, stride=2, padding=0),\n",
        "    nn.ReLU(),\n",
        "    nn.Conv1d(in_channels=15, out_channels=15, kernel_size=3, stride=2, padding=0),\n",
        "    nn.ReLU(),\n",
        "    nn.Conv1d(in_channels=15, out_channels=15, kernel_size=3, stride=2, padding=0),\n",
        "    nn.ReLU(),\n",
        "    nn.Flatten(),\n",
        "    nn.Linear(in_features=15 * 4, out_features=10)\n",
        ")\n",
        "\n",
        "\n",
        "\n"
      ],
      "metadata": {
        "id": "FslroPJJffrh"
      },
      "execution_count": 5,
      "outputs": []
    },
    {
      "cell_type": "code",
      "source": [
        "# He initialization of weights\n",
        "def weights_init(layer_in):\n",
        "  if isinstance(layer_in, nn.Linear):\n",
        "    nn.init.kaiming_uniform_(layer_in.weight)\n",
        "    layer_in.bias.data.fill_(0.0)"
      ],
      "metadata": {
        "id": "YgLaex1pfhqz"
      },
      "execution_count": 6,
      "outputs": []
    },
    {
      "cell_type": "code",
      "source": [
        "# choose cross entropy loss function (equation 5.24 in the loss notes)\n",
        "loss_function = nn.CrossEntropyLoss()\n",
        "# construct SGD optimizer and initialize learning rate and momentum\n",
        "optimizer = torch.optim.SGD(model.parameters(), lr = 0.05, momentum=0.9)\n",
        "# object that decreases learning rate by half every 20 epochs\n",
        "scheduler = StepLR(optimizer, step_size=20, gamma=0.5)\n",
        "# create 100 dummy data points and store in data loader class\n",
        "x_train = torch.tensor(train_data_x.transpose().astype('float32'))\n",
        "y_train = torch.tensor(train_data_y.astype('long')).long()\n",
        "x_val= torch.tensor(val_data_x.transpose().astype('float32'))\n",
        "y_val = torch.tensor(val_data_y.astype('long')).long()\n",
        "\n",
        "# load the data into a class that creates the batches\n",
        "data_loader = DataLoader(TensorDataset(x_train,y_train), batch_size=100, shuffle=True, worker_init_fn=np.random.seed(1))\n",
        "\n",
        "# Initialize model weights\n",
        "model.apply(weights_init)\n",
        "\n",
        "# loop over the dataset n_epoch times\n",
        "n_epoch = 100\n",
        "# store the loss and the % correct at each epoch\n",
        "losses_train = np.zeros((n_epoch))\n",
        "errors_train = np.zeros((n_epoch))\n",
        "losses_val = np.zeros((n_epoch))\n",
        "errors_val = np.zeros((n_epoch))\n",
        "\n",
        "for epoch in range(n_epoch):\n",
        "  # loop over batches\n",
        "  for i, data in enumerate(data_loader):\n",
        "    # retrieve inputs and labels for this batch\n",
        "    x_batch, y_batch = data\n",
        "    # zero the parameter gradients\n",
        "    optimizer.zero_grad()\n",
        "    # forward pass -- calculate model output\n",
        "    pred = model(x_batch[:,None,:])\n",
        "    # compute the loss\n",
        "    loss = loss_function(pred, y_batch)\n",
        "    # backward pass\n",
        "    loss.backward()\n",
        "    # SGD update\n",
        "    optimizer.step()\n",
        "\n",
        "  # Run whole dataset to get statistics -- normally wouldn't do this\n",
        "  pred_train = model(x_train[:,None,:])\n",
        "  pred_val = model(x_val[:,None,:])\n",
        "  _, predicted_train_class = torch.max(pred_train.data, 1)\n",
        "  _, predicted_val_class = torch.max(pred_val.data, 1)\n",
        "  errors_train[epoch] = 100 - 100 * (predicted_train_class == y_train).float().sum() / len(y_train)\n",
        "  errors_val[epoch]= 100 - 100 * (predicted_val_class == y_val).float().sum() / len(y_val)\n",
        "  losses_train[epoch] = loss_function(pred_train, y_train).item()\n",
        "  losses_val[epoch]= loss_function(pred_val, y_val).item()\n",
        "  print(f'Epoch {epoch:5d}, train loss {losses_train[epoch]:.6f}, train error {errors_train[epoch]:3.2f},  val loss {losses_val[epoch]:.6f}, percent error {errors_val[epoch]:3.2f}')\n",
        "\n",
        "  # tell scheduler to consider updating learning rate\n",
        "  scheduler.step()\n",
        "\n",
        "# Plot the results\n",
        "fig, ax = plt.subplots()\n",
        "ax.plot(errors_train,'r-',label='train')\n",
        "ax.plot(errors_val,'b-',label='validation')\n",
        "ax.set_ylim(0,100); ax.set_xlim(0,n_epoch)\n",
        "ax.set_xlabel('Epoch'); ax.set_ylabel('Error')\n",
        "ax.set_title('Part I: Validation Result %3.2f'%(errors_val[-1]))\n",
        "ax.legend()\n",
        "plt.show()"
      ],
      "metadata": {
        "id": "NYw8I_3mmX5c",
        "outputId": "794aec0d-3b6d-4660-e43c-8699fe37ed2e",
        "colab": {
          "base_uri": "https://localhost:8080/",
          "height": 1000
        }
      },
      "execution_count": 7,
      "outputs": [
        {
          "output_type": "stream",
          "name": "stdout",
          "text": [
            "Epoch     0, train loss 1.910595, train error 76.97,  val loss 1.901460, percent error 78.30\n",
            "Epoch     1, train loss 1.487464, train error 60.28,  val loss 1.493170, percent error 62.10\n",
            "Epoch     2, train loss 1.357634, train error 55.60,  val loss 1.370597, percent error 58.40\n",
            "Epoch     3, train loss 1.237917, train error 50.25,  val loss 1.253691, percent error 53.40\n",
            "Epoch     4, train loss 1.332061, train error 54.97,  val loss 1.345532, percent error 56.80\n",
            "Epoch     5, train loss 1.164867, train error 47.05,  val loss 1.178395, percent error 47.90\n",
            "Epoch     6, train loss 1.119037, train error 45.25,  val loss 1.163608, percent error 48.80\n",
            "Epoch     7, train loss 0.979380, train error 39.17,  val loss 1.008508, percent error 40.10\n",
            "Epoch     8, train loss 0.899788, train error 35.53,  val loss 0.950360, percent error 38.20\n",
            "Epoch     9, train loss 0.840971, train error 33.70,  val loss 0.910210, percent error 36.50\n",
            "Epoch    10, train loss 0.694048, train error 26.68,  val loss 0.767977, percent error 30.00\n",
            "Epoch    11, train loss 0.636015, train error 24.28,  val loss 0.698947, percent error 25.80\n",
            "Epoch    12, train loss 0.590020, train error 21.47,  val loss 0.697353, percent error 24.00\n",
            "Epoch    13, train loss 0.545925, train error 20.35,  val loss 0.612702, percent error 23.70\n",
            "Epoch    14, train loss 0.412599, train error 14.90,  val loss 0.530708, percent error 19.60\n",
            "Epoch    15, train loss 0.392582, train error 14.45,  val loss 0.524847, percent error 19.80\n",
            "Epoch    16, train loss 0.333586, train error 12.35,  val loss 0.481642, percent error 17.80\n",
            "Epoch    17, train loss 0.319703, train error 11.22,  val loss 0.461350, percent error 16.10\n",
            "Epoch    18, train loss 0.272743, train error 10.22,  val loss 0.454979, percent error 16.20\n",
            "Epoch    19, train loss 0.243431, train error 8.22,  val loss 0.407252, percent error 14.40\n",
            "Epoch    20, train loss 0.174282, train error 5.78,  val loss 0.343001, percent error 11.90\n",
            "Epoch    21, train loss 0.169195, train error 5.90,  val loss 0.344659, percent error 11.60\n",
            "Epoch    22, train loss 0.148929, train error 4.85,  val loss 0.318357, percent error 11.10\n",
            "Epoch    23, train loss 0.162086, train error 5.43,  val loss 0.351491, percent error 12.20\n",
            "Epoch    24, train loss 0.136906, train error 4.55,  val loss 0.344944, percent error 12.20\n",
            "Epoch    25, train loss 0.133112, train error 4.22,  val loss 0.317372, percent error 11.00\n",
            "Epoch    26, train loss 0.164885, train error 5.62,  val loss 0.376076, percent error 12.20\n",
            "Epoch    27, train loss 0.148693, train error 5.25,  val loss 0.376191, percent error 11.60\n",
            "Epoch    28, train loss 0.118337, train error 3.62,  val loss 0.340530, percent error 11.20\n",
            "Epoch    29, train loss 0.120738, train error 3.90,  val loss 0.323821, percent error 11.10\n",
            "Epoch    30, train loss 0.098807, train error 3.10,  val loss 0.326395, percent error 10.10\n",
            "Epoch    31, train loss 0.112090, train error 4.05,  val loss 0.355846, percent error 11.00\n",
            "Epoch    32, train loss 0.094464, train error 2.80,  val loss 0.321046, percent error 9.90\n",
            "Epoch    33, train loss 0.103329, train error 3.50,  val loss 0.339111, percent error 10.30\n",
            "Epoch    34, train loss 0.108132, train error 3.97,  val loss 0.373043, percent error 11.10\n",
            "Epoch    35, train loss 0.094423, train error 2.90,  val loss 0.371302, percent error 11.60\n",
            "Epoch    36, train loss 0.083104, train error 2.82,  val loss 0.350202, percent error 9.80\n",
            "Epoch    37, train loss 0.069032, train error 1.90,  val loss 0.343038, percent error 9.60\n",
            "Epoch    38, train loss 0.108414, train error 4.15,  val loss 0.385807, percent error 10.70\n",
            "Epoch    39, train loss 0.073168, train error 2.40,  val loss 0.357106, percent error 9.80\n",
            "Epoch    40, train loss 0.060083, train error 1.62,  val loss 0.355088, percent error 9.70\n",
            "Epoch    41, train loss 0.054504, train error 1.62,  val loss 0.345419, percent error 9.50\n",
            "Epoch    42, train loss 0.057107, train error 1.65,  val loss 0.355169, percent error 9.80\n",
            "Epoch    43, train loss 0.056719, train error 1.40,  val loss 0.385866, percent error 10.10\n",
            "Epoch    44, train loss 0.051095, train error 1.30,  val loss 0.377058, percent error 10.20\n",
            "Epoch    45, train loss 0.049637, train error 1.22,  val loss 0.368261, percent error 10.60\n",
            "Epoch    46, train loss 0.049686, train error 1.40,  val loss 0.383437, percent error 9.90\n",
            "Epoch    47, train loss 0.049290, train error 1.35,  val loss 0.382200, percent error 9.50\n",
            "Epoch    48, train loss 0.042439, train error 1.07,  val loss 0.379614, percent error 10.00\n",
            "Epoch    49, train loss 0.043466, train error 0.85,  val loss 0.386123, percent error 9.80\n",
            "Epoch    50, train loss 0.039620, train error 0.70,  val loss 0.379741, percent error 10.00\n",
            "Epoch    51, train loss 0.039613, train error 0.75,  val loss 0.385067, percent error 9.90\n",
            "Epoch    52, train loss 0.037551, train error 0.65,  val loss 0.392398, percent error 10.50\n",
            "Epoch    53, train loss 0.037512, train error 0.68,  val loss 0.385145, percent error 10.60\n",
            "Epoch    54, train loss 0.050071, train error 1.32,  val loss 0.392433, percent error 10.60\n",
            "Epoch    55, train loss 0.037973, train error 0.75,  val loss 0.412555, percent error 10.00\n",
            "Epoch    56, train loss 0.035028, train error 0.70,  val loss 0.409317, percent error 10.90\n",
            "Epoch    57, train loss 0.034878, train error 0.78,  val loss 0.407825, percent error 10.30\n",
            "Epoch    58, train loss 0.036602, train error 0.72,  val loss 0.413436, percent error 9.90\n",
            "Epoch    59, train loss 0.031796, train error 0.55,  val loss 0.410290, percent error 10.40\n",
            "Epoch    60, train loss 0.028866, train error 0.32,  val loss 0.412172, percent error 10.30\n",
            "Epoch    61, train loss 0.028533, train error 0.40,  val loss 0.415229, percent error 10.10\n",
            "Epoch    62, train loss 0.027506, train error 0.30,  val loss 0.415995, percent error 10.10\n",
            "Epoch    63, train loss 0.027832, train error 0.38,  val loss 0.421913, percent error 10.30\n",
            "Epoch    64, train loss 0.026958, train error 0.30,  val loss 0.427174, percent error 10.10\n",
            "Epoch    65, train loss 0.026460, train error 0.30,  val loss 0.419700, percent error 10.10\n",
            "Epoch    66, train loss 0.026102, train error 0.28,  val loss 0.423667, percent error 10.20\n",
            "Epoch    67, train loss 0.026638, train error 0.28,  val loss 0.424922, percent error 10.60\n",
            "Epoch    68, train loss 0.025750, train error 0.28,  val loss 0.427834, percent error 10.20\n",
            "Epoch    69, train loss 0.027228, train error 0.30,  val loss 0.435245, percent error 10.00\n",
            "Epoch    70, train loss 0.025048, train error 0.25,  val loss 0.431036, percent error 10.20\n",
            "Epoch    71, train loss 0.025071, train error 0.22,  val loss 0.436430, percent error 10.20\n",
            "Epoch    72, train loss 0.024350, train error 0.28,  val loss 0.444959, percent error 9.80\n",
            "Epoch    73, train loss 0.024961, train error 0.25,  val loss 0.433889, percent error 10.50\n",
            "Epoch    74, train loss 0.024412, train error 0.15,  val loss 0.443762, percent error 10.40\n",
            "Epoch    75, train loss 0.023057, train error 0.20,  val loss 0.439489, percent error 10.20\n",
            "Epoch    76, train loss 0.024775, train error 0.22,  val loss 0.443400, percent error 10.50\n",
            "Epoch    77, train loss 0.023787, train error 0.20,  val loss 0.438632, percent error 10.20\n",
            "Epoch    78, train loss 0.022417, train error 0.20,  val loss 0.446687, percent error 10.00\n",
            "Epoch    79, train loss 0.022265, train error 0.20,  val loss 0.452300, percent error 10.00\n",
            "Epoch    80, train loss 0.021453, train error 0.18,  val loss 0.449160, percent error 10.00\n",
            "Epoch    81, train loss 0.021230, train error 0.20,  val loss 0.449383, percent error 10.20\n",
            "Epoch    82, train loss 0.021053, train error 0.18,  val loss 0.449339, percent error 10.20\n",
            "Epoch    83, train loss 0.021049, train error 0.15,  val loss 0.449718, percent error 10.00\n",
            "Epoch    84, train loss 0.020850, train error 0.18,  val loss 0.450803, percent error 10.00\n",
            "Epoch    85, train loss 0.020665, train error 0.20,  val loss 0.453456, percent error 9.90\n",
            "Epoch    86, train loss 0.020653, train error 0.18,  val loss 0.455169, percent error 10.00\n",
            "Epoch    87, train loss 0.020409, train error 0.18,  val loss 0.454420, percent error 10.00\n",
            "Epoch    88, train loss 0.020344, train error 0.18,  val loss 0.455197, percent error 10.00\n",
            "Epoch    89, train loss 0.020356, train error 0.18,  val loss 0.454287, percent error 10.30\n",
            "Epoch    90, train loss 0.020317, train error 0.18,  val loss 0.456705, percent error 10.30\n",
            "Epoch    91, train loss 0.020947, train error 0.18,  val loss 0.451571, percent error 10.20\n",
            "Epoch    92, train loss 0.019808, train error 0.12,  val loss 0.458589, percent error 9.90\n",
            "Epoch    93, train loss 0.019786, train error 0.15,  val loss 0.456772, percent error 10.10\n",
            "Epoch    94, train loss 0.019508, train error 0.18,  val loss 0.457057, percent error 10.10\n",
            "Epoch    95, train loss 0.019575, train error 0.12,  val loss 0.458004, percent error 10.20\n",
            "Epoch    96, train loss 0.019392, train error 0.07,  val loss 0.459281, percent error 10.20\n",
            "Epoch    97, train loss 0.019152, train error 0.15,  val loss 0.460237, percent error 9.90\n",
            "Epoch    98, train loss 0.019122, train error 0.12,  val loss 0.461324, percent error 10.10\n",
            "Epoch    99, train loss 0.019081, train error 0.15,  val loss 0.462330, percent error 10.10\n"
          ]
        },
        {
          "output_type": "display_data",
          "data": {
            "text/plain": [
              "<Figure size 640x480 with 1 Axes>"
            ],
            "image/png": "[encoded data removed]"
          },
          "metadata": {}
        }
      ]
    }
  ]
}