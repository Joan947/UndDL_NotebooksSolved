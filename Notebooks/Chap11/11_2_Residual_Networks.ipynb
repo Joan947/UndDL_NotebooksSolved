{
  "nbformat": 4,
  "nbformat_minor": 0,
  "metadata": {
    "colab": {
      "provenance": [],
      "include_colab_link": true
    },
    "kernelspec": {
      "name": "python3",
      "display_name": "Python 3"
    },
    "language_info": {
      "name": "python"
    }
  },
  "cells": [
    {
      "cell_type": "markdown",
      "metadata": {
        "id": "view-in-github",
        "colab_type": "text"
      },
      "source": [
        "<a href=\"https://colab.research.google.com/github/Joan947/UndDL_NotebooksSolved/blob/main/Notebooks/Chap11/11_2_Residual_Networks.ipynb\" target=\"_parent\"><img src=\"https://colab.research.google.com/assets/colab-badge.svg\" alt=\"Open In Colab\"/></a>"
      ]
    },
    {
      "cell_type": "markdown",
      "source": [
        "# **Notebook 11.2: Residual Networks**\n",
        "\n",
        "This notebook adapts the networks for MNIST1D to use residual connections.\n",
        "\n",
        "Work through the cells below, running each cell in turn. In various places you will see the words \"TODO\". Follow the instructions at these places and make predictions about what is going to happen or write code to complete the functions.\n",
        "\n",
        "Contact me at udlbookmail@gmail.com if you find any mistakes or have any suggestions.\n",
        "\n"
      ],
      "metadata": {
        "id": "t9vk9Elugvmi"
      }
    },
    {
      "cell_type": "code",
      "source": [
        "# Run this if you're in a Colab to install MNIST 1D repository\n",
        "!pip install git+https://github.com/greydanus/mnist1d"
      ],
      "metadata": {
        "id": "D5yLObtZCi9J",
        "outputId": "aeef6a57-5b51-422d-ace5-d4fb3a0a5c41",
        "colab": {
          "base_uri": "https://localhost:8080/"
        }
      },
      "execution_count": 1,
      "outputs": [
        {
          "output_type": "stream",
          "name": "stdout",
          "text": [
            "Collecting git+https://github.com/greydanus/mnist1d\n",
            "  Cloning https://github.com/greydanus/mnist1d to /tmp/pip-req-build-zc1xqj72\n",
            "  Running command git clone --filter=blob:none --quiet https://github.com/greydanus/mnist1d /tmp/pip-req-build-zc1xqj72\n",
            "  Resolved https://github.com/greydanus/mnist1d to commit 7878d96082abd200c546a07a4101fa90b30fdf7e\n",
            "  Installing build dependencies ... \u001b[?25l\u001b[?25hdone\n",
            "  Getting requirements to build wheel ... \u001b[?25l\u001b[?25hdone\n",
            "  Preparing metadata (pyproject.toml) ... \u001b[?25l\u001b[?25hdone\n",
            "Requirement already satisfied: requests in /usr/local/lib/python3.11/dist-packages (from mnist1d==0.0.2.post16) (2.32.3)\n",
            "Requirement already satisfied: numpy in /usr/local/lib/python3.11/dist-packages (from mnist1d==0.0.2.post16) (2.0.2)\n",
            "Requirement already satisfied: matplotlib in /usr/local/lib/python3.11/dist-packages (from mnist1d==0.0.2.post16) (3.10.0)\n",
            "Requirement already satisfied: scipy in /usr/local/lib/python3.11/dist-packages (from mnist1d==0.0.2.post16) (1.15.2)\n",
            "Requirement already satisfied: contourpy>=1.0.1 in /usr/local/lib/python3.11/dist-packages (from matplotlib->mnist1d==0.0.2.post16) (1.3.2)\n",
            "Requirement already satisfied: cycler>=0.10 in /usr/local/lib/python3.11/dist-packages (from matplotlib->mnist1d==0.0.2.post16) (0.12.1)\n",
            "Requirement already satisfied: fonttools>=4.22.0 in /usr/local/lib/python3.11/dist-packages (from matplotlib->mnist1d==0.0.2.post16) (4.57.0)\n",
            "Requirement already satisfied: kiwisolver>=1.3.1 in /usr/local/lib/python3.11/dist-packages (from matplotlib->mnist1d==0.0.2.post16) (1.4.8)\n",
            "Requirement already satisfied: packaging>=20.0 in /usr/local/lib/python3.11/dist-packages (from matplotlib->mnist1d==0.0.2.post16) (24.2)\n",
            "Requirement already satisfied: pillow>=8 in /usr/local/lib/python3.11/dist-packages (from matplotlib->mnist1d==0.0.2.post16) (11.2.1)\n",
            "Requirement already satisfied: pyparsing>=2.3.1 in /usr/local/lib/python3.11/dist-packages (from matplotlib->mnist1d==0.0.2.post16) (3.2.3)\n",
            "Requirement already satisfied: python-dateutil>=2.7 in /usr/local/lib/python3.11/dist-packages (from matplotlib->mnist1d==0.0.2.post16) (2.9.0.post0)\n",
            "Requirement already satisfied: charset-normalizer<4,>=2 in /usr/local/lib/python3.11/dist-packages (from requests->mnist1d==0.0.2.post16) (3.4.1)\n",
            "Requirement already satisfied: idna<4,>=2.5 in /usr/local/lib/python3.11/dist-packages (from requests->mnist1d==0.0.2.post16) (3.10)\n",
            "Requirement already satisfied: urllib3<3,>=1.21.1 in /usr/local/lib/python3.11/dist-packages (from requests->mnist1d==0.0.2.post16) (2.4.0)\n",
            "Requirement already satisfied: certifi>=2017.4.17 in /usr/local/lib/python3.11/dist-packages (from requests->mnist1d==0.0.2.post16) (2025.4.26)\n",
            "Requirement already satisfied: six>=1.5 in /usr/local/lib/python3.11/dist-packages (from python-dateutil>=2.7->matplotlib->mnist1d==0.0.2.post16) (1.17.0)\n",
            "Building wheels for collected packages: mnist1d\n",
            "  Building wheel for mnist1d (pyproject.toml) ... \u001b[?25l\u001b[?25hdone\n",
            "  Created wheel for mnist1d: filename=mnist1d-0.0.2.post16-py3-none-any.whl size=14663 sha256=f95eb1135e9ca9c965f75ae05519eb325fad1575b91895626647b7e2ab0b228b\n",
            "  Stored in directory: /tmp/pip-ephem-wheel-cache-7f0p2o6g/wheels/d6/38/42/3d2112bc7d915f6195254ac85eb761d922d1b18f52817aa8e2\n",
            "Successfully built mnist1d\n",
            "Installing collected packages: mnist1d\n",
            "Successfully installed mnist1d-0.0.2.post16\n"
          ]
        }
      ]
    },
    {
      "cell_type": "code",
      "source": [
        "import numpy as np\n",
        "import os\n",
        "import torch, torch.nn as nn\n",
        "from torch.utils.data import TensorDataset, DataLoader\n",
        "from torch.optim.lr_scheduler import StepLR\n",
        "import matplotlib.pyplot as plt\n",
        "import mnist1d\n",
        "import random"
      ],
      "metadata": {
        "id": "YrXWAH7sUWvU"
      },
      "execution_count": 2,
      "outputs": []
    },
    {
      "cell_type": "code",
      "source": [
        "args = mnist1d.data.get_dataset_args()\n",
        "data = mnist1d.data.get_dataset(args, path='./mnist1d_data.pkl', download=False, regenerate=False)\n",
        "\n",
        "# The training and test input and outputs are in\n",
        "# data['x'], data['y'], data['x_test'], and data['y_test']\n",
        "print(\"Examples in training set: {}\".format(len(data['y'])))\n",
        "print(\"Examples in test set: {}\".format(len(data['y_test'])))\n",
        "print(\"Length of each example: {}\".format(data['x'].shape[-1]))"
      ],
      "metadata": {
        "id": "twI72ZCrCt5z",
        "outputId": "aa5a851c-3fc5-4cec-d5d2-30a65692b949",
        "colab": {
          "base_uri": "https://localhost:8080/"
        }
      },
      "execution_count": 3,
      "outputs": [
        {
          "output_type": "stream",
          "name": "stdout",
          "text": [
            "Did or could not load data from ./mnist1d_data.pkl. Rebuilding dataset...\n",
            "Examples in training set: 4000\n",
            "Examples in test set: 1000\n",
            "Length of each example: 40\n"
          ]
        }
      ]
    },
    {
      "cell_type": "code",
      "source": [
        "# Load in the data\n",
        "train_data_x = data['x'].transpose()\n",
        "train_data_y = data['y']\n",
        "val_data_x = data['x_test'].transpose()\n",
        "val_data_y = data['y_test']\n",
        "# Print out sizes\n",
        "print(\"Train data: %d examples (columns), each of which has %d dimensions (rows)\"%((train_data_x.shape[1],train_data_x.shape[0])))\n",
        "print(\"Validation data: %d examples (columns), each of which has %d dimensions (rows)\"%((val_data_x.shape[1],val_data_x.shape[0])))"
      ],
      "metadata": {
        "id": "8bKADvLHbiV5",
        "outputId": "51af2a08-dd24-4dc0-fd52-2b66127c939f",
        "colab": {
          "base_uri": "https://localhost:8080/"
        }
      },
      "execution_count": 4,
      "outputs": [
        {
          "output_type": "stream",
          "name": "stdout",
          "text": [
            "Train data: 4000 examples (columns), each of which has 40 dimensions (rows)\n",
            "Validation data: 1000 examples (columns), each of which has 40 dimensions (rows)\n"
          ]
        }
      ]
    },
    {
      "cell_type": "markdown",
      "source": [
        "Define the network"
      ],
      "metadata": {
        "id": "_sFvRDGrl4qe"
      }
    },
    {
      "cell_type": "code",
      "source": [
        "# There are 40 input dimensions and 10 output dimensions for this data\n",
        "# The inputs correspond to the 40 offsets in the MNIST1D template.\n",
        "D_i = 40\n",
        "# The outputs correspond to the 10 digits\n",
        "D_o = 10\n",
        "\n",
        "\n",
        "# We will adapt this model to have residual connections around the linear layers\n",
        "# This is the same model we used in practical 8.1, but we can't use the sequential\n",
        "# class for residual networks (which aren't strictly sequential).  Hence, I've rewritten\n",
        "# it as a model that inherits from a base class\n",
        "\n",
        "class ResidualNetwork(torch.nn.Module):\n",
        "  def __init__(self, input_size, output_size, hidden_size=100):\n",
        "    super(ResidualNetwork, self).__init__()\n",
        "    self.linear1 = nn.Linear(input_size, hidden_size)\n",
        "    self.linear2 = nn.Linear(hidden_size, hidden_size)\n",
        "    self.linear3 = nn.Linear(hidden_size, hidden_size)\n",
        "    self.linear4 = nn.Linear(hidden_size, output_size)\n",
        "    print(\"Initialized MLPBase model with {} parameters\".format(self.count_params()))\n",
        "\n",
        "  def count_params(self):\n",
        "    return sum([p.view(-1).shape[0] for p in self.parameters()])\n",
        "\n",
        "# TODO -- Add residual connections to this model\n",
        "# The order of operations within each block should similar to figure 11.5b\n",
        "# ie., linear1 first, ReLU+linear2 in first residual block, ReLU+linear3 in second residual block), linear4 at end\n",
        "# Replace this function\n",
        "  def forward(self, x):\n",
        "    h1 = self.linear1(x).relu()\n",
        "    res1 = self.linear2(h1).relu()\n",
        "    h2 = (h1 + res1).relu()\n",
        "    res2 = self.linear3(h2).relu()\n",
        "    h3 = (h2 + res2).relu()\n",
        "    return self.linear4(h3)\n"
      ],
      "metadata": {
        "id": "FslroPJJffrh"
      },
      "execution_count": 9,
      "outputs": []
    },
    {
      "cell_type": "code",
      "source": [
        "# He initialization of weights\n",
        "def weights_init(layer_in):\n",
        "  if isinstance(layer_in, nn.Linear):\n",
        "    nn.init.kaiming_uniform_(layer_in.weight)\n",
        "    layer_in.bias.data.fill_(0.0)"
      ],
      "metadata": {
        "id": "YgLaex1pfhqz"
      },
      "execution_count": 10,
      "outputs": []
    },
    {
      "cell_type": "code",
      "source": [
        "#Define the model\n",
        "model = ResidualNetwork(40, 10)\n",
        "\n",
        "# choose cross entropy loss function (equation 5.24 in the loss notes)\n",
        "loss_function = nn.CrossEntropyLoss()\n",
        "# construct SGD optimizer and initialize learning rate and momentum\n",
        "optimizer = torch.optim.SGD(model.parameters(), lr = 0.05, momentum=0.9)\n",
        "# object that decreases learning rate by half every 20 epochs\n",
        "scheduler = StepLR(optimizer, step_size=20, gamma=0.5)\n",
        "# convert data to torch tensors\n",
        "x_train = torch.tensor(train_data_x.transpose().astype('float32'))\n",
        "y_train = torch.tensor(train_data_y.astype('long'))\n",
        "x_val= torch.tensor(val_data_x.transpose().astype('float32'))\n",
        "y_val = torch.tensor(val_data_y.astype('long'))\n",
        "\n",
        "# load the data into a class that creates the batches\n",
        "data_loader = DataLoader(TensorDataset(x_train,y_train), batch_size=100, shuffle=True, worker_init_fn=np.random.seed(1))\n",
        "\n",
        "# Initialize model weights\n",
        "model.apply(weights_init)\n",
        "\n",
        "# loop over the dataset n_epoch times\n",
        "n_epoch = 100\n",
        "# store the loss and the % correct at each epoch\n",
        "losses_train = np.zeros((n_epoch))\n",
        "errors_train = np.zeros((n_epoch))\n",
        "losses_val = np.zeros((n_epoch))\n",
        "errors_val = np.zeros((n_epoch))\n",
        "\n",
        "for epoch in range(n_epoch):\n",
        "  # loop over batches\n",
        "  for i, data in enumerate(data_loader):\n",
        "    # retrieve inputs and labels for this batch\n",
        "    x_batch, y_batch = data\n",
        "    # zero the parameter gradients\n",
        "    optimizer.zero_grad()\n",
        "    # forward pass -- calculate model output\n",
        "    pred = model(x_batch)\n",
        "    # compute the loss\n",
        "    loss = loss_function(pred, y_batch)\n",
        "    # backward pass\n",
        "    loss.backward()\n",
        "    # SGD update\n",
        "    optimizer.step()\n",
        "\n",
        "  # Run whole dataset to get statistics -- normally wouldn't do this\n",
        "  pred_train = model(x_train)\n",
        "  pred_val = model(x_val)\n",
        "  _, predicted_train_class = torch.max(pred_train.data, 1)\n",
        "  _, predicted_val_class = torch.max(pred_val.data, 1)\n",
        "  errors_train[epoch] = 100 - 100 * (predicted_train_class == y_train).float().sum() / len(y_train)\n",
        "  errors_val[epoch]= 100 - 100 * (predicted_val_class == y_val).float().sum() / len(y_val)\n",
        "  losses_train[epoch] = loss_function(pred_train, y_train).item()\n",
        "  losses_val[epoch]= loss_function(pred_val, y_val).item()\n",
        "  print(f'Epoch {epoch:5d}, train loss {losses_train[epoch]:.6f}, train error {errors_train[epoch]:3.2f},  val loss {losses_val[epoch]:.6f}, percent error {errors_val[epoch]:3.2f}')\n",
        "\n",
        "  # tell scheduler to consider updating learning rate\n",
        "  scheduler.step()"
      ],
      "metadata": {
        "id": "NYw8I_3mmX5c",
        "outputId": "bfd7cb45-9a04-4ed9-c323-1f3d9d2b8c13",
        "colab": {
          "base_uri": "https://localhost:8080/"
        }
      },
      "execution_count": 11,
      "outputs": [
        {
          "output_type": "stream",
          "name": "stdout",
          "text": [
            "Initialized MLPBase model with 25310 parameters\n",
            "Epoch     0, train loss 1.625210, train error 62.22,  val loss 1.694265, percent error 66.10\n",
            "Epoch     1, train loss 1.368528, train error 48.95,  val loss 1.504805, percent error 58.60\n",
            "Epoch     2, train loss 1.168585, train error 41.20,  val loss 1.342855, percent error 51.30\n",
            "Epoch     3, train loss 1.041828, train error 37.47,  val loss 1.275198, percent error 49.80\n",
            "Epoch     4, train loss 0.936036, train error 33.05,  val loss 1.212358, percent error 46.50\n",
            "Epoch     5, train loss 0.837317, train error 29.35,  val loss 1.189430, percent error 45.10\n",
            "Epoch     6, train loss 0.768585, train error 26.60,  val loss 1.181859, percent error 43.80\n",
            "Epoch     7, train loss 0.706475, train error 25.80,  val loss 1.166531, percent error 44.10\n",
            "Epoch     8, train loss 0.630886, train error 22.80,  val loss 1.137195, percent error 42.10\n",
            "Epoch     9, train loss 0.594425, train error 20.65,  val loss 1.182091, percent error 42.00\n",
            "Epoch    10, train loss 0.524207, train error 18.35,  val loss 1.139670, percent error 38.50\n",
            "Epoch    11, train loss 0.490088, train error 17.57,  val loss 1.141564, percent error 37.90\n",
            "Epoch    12, train loss 0.438668, train error 14.57,  val loss 1.174360, percent error 39.30\n",
            "Epoch    13, train loss 0.369393, train error 12.12,  val loss 1.227134, percent error 40.50\n",
            "Epoch    14, train loss 0.359230, train error 12.78,  val loss 1.273884, percent error 39.40\n",
            "Epoch    15, train loss 0.272383, train error 9.12,  val loss 1.246197, percent error 37.80\n",
            "Epoch    16, train loss 0.273778, train error 8.97,  val loss 1.293209, percent error 37.70\n",
            "Epoch    17, train loss 0.270125, train error 8.97,  val loss 1.365645, percent error 39.40\n",
            "Epoch    18, train loss 0.231363, train error 7.38,  val loss 1.390244, percent error 38.30\n",
            "Epoch    19, train loss 0.172460, train error 4.82,  val loss 1.335051, percent error 36.10\n",
            "Epoch    20, train loss 0.097787, train error 1.43,  val loss 1.313567, percent error 35.80\n",
            "Epoch    21, train loss 0.072736, train error 0.65,  val loss 1.325684, percent error 35.60\n",
            "Epoch    22, train loss 0.058315, train error 0.28,  val loss 1.357772, percent error 34.60\n",
            "Epoch    23, train loss 0.050709, train error 0.10,  val loss 1.402927, percent error 35.30\n",
            "Epoch    24, train loss 0.041768, train error 0.07,  val loss 1.409621, percent error 34.50\n",
            "Epoch    25, train loss 0.036868, train error 0.03,  val loss 1.440609, percent error 34.30\n",
            "Epoch    26, train loss 0.033840, train error 0.03,  val loss 1.476588, percent error 35.60\n",
            "Epoch    27, train loss 0.030031, train error 0.05,  val loss 1.490350, percent error 35.60\n",
            "Epoch    28, train loss 0.026613, train error 0.00,  val loss 1.514658, percent error 35.70\n",
            "Epoch    29, train loss 0.024258, train error 0.00,  val loss 1.540677, percent error 35.40\n",
            "Epoch    30, train loss 0.024344, train error 0.00,  val loss 1.574548, percent error 35.60\n",
            "Epoch    31, train loss 0.020666, train error 0.00,  val loss 1.572581, percent error 35.40\n",
            "Epoch    32, train loss 0.019158, train error 0.00,  val loss 1.605811, percent error 35.40\n",
            "Epoch    33, train loss 0.017872, train error 0.00,  val loss 1.614104, percent error 35.30\n",
            "Epoch    34, train loss 0.017002, train error 0.00,  val loss 1.645300, percent error 36.00\n",
            "Epoch    35, train loss 0.015843, train error 0.00,  val loss 1.651822, percent error 36.00\n",
            "Epoch    36, train loss 0.014804, train error 0.00,  val loss 1.674602, percent error 35.70\n",
            "Epoch    37, train loss 0.013860, train error 0.00,  val loss 1.684019, percent error 35.60\n",
            "Epoch    38, train loss 0.013212, train error 0.00,  val loss 1.695731, percent error 35.90\n",
            "Epoch    39, train loss 0.012492, train error 0.00,  val loss 1.712219, percent error 35.70\n",
            "Epoch    40, train loss 0.012001, train error 0.00,  val loss 1.720772, percent error 35.70\n",
            "Epoch    41, train loss 0.011696, train error 0.00,  val loss 1.729125, percent error 35.80\n",
            "Epoch    42, train loss 0.011427, train error 0.00,  val loss 1.736862, percent error 36.00\n",
            "Epoch    43, train loss 0.011173, train error 0.00,  val loss 1.740160, percent error 35.50\n",
            "Epoch    44, train loss 0.010918, train error 0.00,  val loss 1.749822, percent error 36.00\n",
            "Epoch    45, train loss 0.010676, train error 0.00,  val loss 1.757812, percent error 35.60\n",
            "Epoch    46, train loss 0.010450, train error 0.00,  val loss 1.761137, percent error 35.60\n",
            "Epoch    47, train loss 0.010201, train error 0.00,  val loss 1.768079, percent error 35.70\n",
            "Epoch    48, train loss 0.009980, train error 0.00,  val loss 1.775887, percent error 35.40\n",
            "Epoch    49, train loss 0.009843, train error 0.00,  val loss 1.782564, percent error 35.60\n",
            "Epoch    50, train loss 0.009565, train error 0.00,  val loss 1.786769, percent error 35.70\n",
            "Epoch    51, train loss 0.009380, train error 0.00,  val loss 1.792834, percent error 35.70\n",
            "Epoch    52, train loss 0.009197, train error 0.00,  val loss 1.798817, percent error 35.40\n",
            "Epoch    53, train loss 0.009013, train error 0.00,  val loss 1.805233, percent error 35.70\n",
            "Epoch    54, train loss 0.008841, train error 0.00,  val loss 1.811147, percent error 36.20\n",
            "Epoch    55, train loss 0.008701, train error 0.00,  val loss 1.816418, percent error 35.50\n",
            "Epoch    56, train loss 0.008507, train error 0.00,  val loss 1.824494, percent error 35.50\n",
            "Epoch    57, train loss 0.008354, train error 0.00,  val loss 1.828634, percent error 35.80\n",
            "Epoch    58, train loss 0.008194, train error 0.00,  val loss 1.834402, percent error 35.70\n",
            "Epoch    59, train loss 0.008050, train error 0.00,  val loss 1.839712, percent error 35.50\n",
            "Epoch    60, train loss 0.007964, train error 0.00,  val loss 1.841787, percent error 35.90\n",
            "Epoch    61, train loss 0.007893, train error 0.00,  val loss 1.844438, percent error 36.20\n",
            "Epoch    62, train loss 0.007830, train error 0.00,  val loss 1.847547, percent error 35.90\n",
            "Epoch    63, train loss 0.007760, train error 0.00,  val loss 1.849462, percent error 35.80\n",
            "Epoch    64, train loss 0.007689, train error 0.00,  val loss 1.852080, percent error 35.80\n",
            "Epoch    65, train loss 0.007624, train error 0.00,  val loss 1.855293, percent error 35.90\n",
            "Epoch    66, train loss 0.007561, train error 0.00,  val loss 1.857939, percent error 35.90\n",
            "Epoch    67, train loss 0.007498, train error 0.00,  val loss 1.859378, percent error 35.90\n",
            "Epoch    68, train loss 0.007435, train error 0.00,  val loss 1.862007, percent error 36.00\n",
            "Epoch    69, train loss 0.007373, train error 0.00,  val loss 1.864476, percent error 36.00\n",
            "Epoch    70, train loss 0.007311, train error 0.00,  val loss 1.867816, percent error 36.00\n",
            "Epoch    71, train loss 0.007254, train error 0.00,  val loss 1.869092, percent error 35.90\n",
            "Epoch    72, train loss 0.007194, train error 0.00,  val loss 1.872090, percent error 36.00\n",
            "Epoch    73, train loss 0.007137, train error 0.00,  val loss 1.874262, percent error 35.90\n",
            "Epoch    74, train loss 0.007081, train error 0.00,  val loss 1.876079, percent error 35.80\n",
            "Epoch    75, train loss 0.007023, train error 0.00,  val loss 1.878794, percent error 35.90\n",
            "Epoch    76, train loss 0.006967, train error 0.00,  val loss 1.881605, percent error 35.90\n",
            "Epoch    77, train loss 0.006912, train error 0.00,  val loss 1.884017, percent error 36.00\n",
            "Epoch    78, train loss 0.006858, train error 0.00,  val loss 1.886399, percent error 36.00\n",
            "Epoch    79, train loss 0.006804, train error 0.00,  val loss 1.888337, percent error 35.80\n",
            "Epoch    80, train loss 0.006777, train error 0.00,  val loss 1.889490, percent error 35.80\n",
            "Epoch    81, train loss 0.006749, train error 0.00,  val loss 1.890810, percent error 35.90\n",
            "Epoch    82, train loss 0.006723, train error 0.00,  val loss 1.892024, percent error 36.00\n",
            "Epoch    83, train loss 0.006698, train error 0.00,  val loss 1.892953, percent error 35.90\n",
            "Epoch    84, train loss 0.006671, train error 0.00,  val loss 1.894586, percent error 35.90\n",
            "Epoch    85, train loss 0.006645, train error 0.00,  val loss 1.895316, percent error 35.90\n",
            "Epoch    86, train loss 0.006621, train error 0.00,  val loss 1.896467, percent error 35.80\n",
            "Epoch    87, train loss 0.006595, train error 0.00,  val loss 1.897943, percent error 36.00\n",
            "Epoch    88, train loss 0.006570, train error 0.00,  val loss 1.898624, percent error 35.90\n",
            "Epoch    89, train loss 0.006546, train error 0.00,  val loss 1.899539, percent error 36.00\n",
            "Epoch    90, train loss 0.006521, train error 0.00,  val loss 1.900799, percent error 35.80\n",
            "Epoch    91, train loss 0.006496, train error 0.00,  val loss 1.902365, percent error 35.80\n",
            "Epoch    92, train loss 0.006471, train error 0.00,  val loss 1.903011, percent error 35.90\n",
            "Epoch    93, train loss 0.006448, train error 0.00,  val loss 1.903990, percent error 36.00\n",
            "Epoch    94, train loss 0.006424, train error 0.00,  val loss 1.905213, percent error 35.90\n",
            "Epoch    95, train loss 0.006400, train error 0.00,  val loss 1.906092, percent error 35.80\n",
            "Epoch    96, train loss 0.006377, train error 0.00,  val loss 1.907558, percent error 36.00\n",
            "Epoch    97, train loss 0.006353, train error 0.00,  val loss 1.908678, percent error 35.90\n",
            "Epoch    98, train loss 0.006329, train error 0.00,  val loss 1.909714, percent error 35.90\n",
            "Epoch    99, train loss 0.006306, train error 0.00,  val loss 1.910494, percent error 35.80\n"
          ]
        }
      ]
    },
    {
      "cell_type": "code",
      "source": [
        "# Plot the results\n",
        "fig, ax = plt.subplots()\n",
        "ax.plot(errors_train,'r-',label='train')\n",
        "ax.plot(errors_val,'b-',label='test')\n",
        "ax.set_ylim(0,100); ax.set_xlim(0,n_epoch)\n",
        "ax.set_xlabel('Epoch'); ax.set_ylabel('Error')\n",
        "ax.set_title('TrainError %3.2f, Val Error %3.2f'%(errors_train[-1],errors_val[-1]))\n",
        "ax.legend()\n",
        "plt.show()"
      ],
      "metadata": {
        "id": "CcP_VyEmE2sv",
        "outputId": "b075b444-af60-4c62-eea2-c0cf0c8fce75",
        "colab": {
          "base_uri": "https://localhost:8080/",
          "height": 472
        }
      },
      "execution_count": 8,
      "outputs": [
        {
          "output_type": "display_data",
          "data": {
            "text/plain": [
              "<Figure size 640x480 with 1 Axes>"
            ],
            "image/png": "[encoded data removed]"
          },
          "metadata": {}
        }
      ]
    },
    {
      "cell_type": "markdown",
      "source": [
        "The primary motivation of residual networks is to allow training of much deeper networks.   \n",
        "\n",
        "TODO: Try running this network with and without the residual connections.  Does adding the residual connections change the performance?"
      ],
      "metadata": {
        "id": "wMmqhmxuAx0M"
      }
    }
  ]
}